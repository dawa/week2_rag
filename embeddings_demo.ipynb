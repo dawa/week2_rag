{
 "cells": [
  {
   "cell_type": "code",
   "execution_count": null,
   "metadata": {},
   "outputs": [],
   "source": [
    "from llama_index.embeddings.openai import OpenAIEmbedding\n",
    "from sklearn.metrics.pairwise import cosine_similarity\n",
    "import numpy as np\n",
    "import openai\n",
    "\n",
    "# Set your OpenAI API key\n",
    "openai.api_key = 'YOUR_OPENAI_API_KEY'\n",
    "\n",
    "# Initialize the OpenAI embedding model\n",
    "embedding_model = OpenAIEmbedding(model=\"text-embedding-ada-002\")\n",
    "\n",
    "# Define the question and answers (1 correct, 4 closely related wrong ones)\n",
    "phrases = [\n",
    "    \"What spacecraft was used in the mission to carry the first humans to the moon?\",  # Question\n",
    "    \"Apollo 11 was the spacecraft used to carry the first humans to the moon.\",       # Correct Answer\n",
    "    \"Apollo 12 was the spacecraft used to carry the first humans to the moon.\",         # Wrong Answer\n",
    "    \"Apollo 14 was the spacecraft used to carry astronauts on the third successful moon landing mission.\", # Wrong Answer\n",
    "    \"Apollo 10 was the spacecraft used to carry the first humans to the moon.\", # Wrong Answer\n",
    "    \"Apollo 16 was the spacecraft that carried astronauts to explore the lunar highlands.\"   # Wrong Answer\n",
    "]\n",
    "\n",
    "# Generate embeddings for the question and answers using OpenAI embeddings\n",
    "embeddings = embedding_model.get_text_embedding_batch(phrases)\n",
    "\n",
    "# Convert embeddings to a numpy array\n",
    "embeddings_array = np.array(embeddings)\n",
    "\n",
    "# Print the first phrase and the first several elements of its embedding\n",
    "print(f\"Phrase: {phrases[0]}\")\n",
    "print(f\"First 5 elements of its embedding: {embeddings_array[0][:5]}\\n\")\n",
    "\n",
    "# Compute cosine similarity between the embeddings\n",
    "similarity_matrix = cosine_similarity(embeddings_array)\n",
    "\n",
    "print(\"\\nDetailed Similarity Results:\\n\")\n",
    "\n",
    "# Output comparison between question and answers with improved readability\n",
    "for i in range(1, len(phrases)):\n",
    "    print(f\"Cosine similarity between the question and:\\n  '{phrases[i]}'\\n  => {similarity_matrix[0, i]:.4f}\\n\")\n"
   ]
  }
 ],
 "metadata": {
  "language_info": {
   "name": "python"
  }
 },
 "nbformat": 4,
 "nbformat_minor": 2
}
